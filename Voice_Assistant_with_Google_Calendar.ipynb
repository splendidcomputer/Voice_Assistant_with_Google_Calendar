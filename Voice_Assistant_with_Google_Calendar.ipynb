{
 "cells": [
  {
   "cell_type": "markdown",
   "metadata": {},
   "source": [
    "# Voice Assistant with Google Calendar Integration\n",
    "This notebook uses Google Calendar API, speech recognition, and text-to-speech libraries to create a voice-activated assistant. The assistant can read events from your Google Calendar and take notes based on voice commands."
   ]
  },
  {
   "cell_type": "code",
   "execution_count": 1,
   "metadata": {},
   "outputs": [],
   "source": [
    "from __future__ import print_function\n",
    "import datetime\n",
    "import pickle\n",
    "import os.path\n",
    "from googleapiclient.discovery import build\n",
    "from google_auth_oauthlib.flow import InstalledAppFlow\n",
    "from google.auth.transport.requests import Request\n",
    "import pyttsx3\n",
    "import speech_recognition as sr\n",
    "import pytz\n",
    "import subprocess\n"
   ]
  },
  {
   "cell_type": "markdown",
   "metadata": {},
   "source": [
    "## Define Global Variables and Functions\n",
    "Here we define the global variables for the assistant and utility functions for text-to-speech and speech recognition."
   ]
  },
  {
   "cell_type": "code",
   "execution_count": 2,
   "metadata": {},
   "outputs": [],
   "source": [
    "SCOPES = [\"https://www.googleapis.com/auth/calendar.readonly\"]\n",
    "MONTHS = [\n",
    "    \"january\",\n",
    "    \"february\",\n",
    "    \"march\",\n",
    "    \"april\",\n",
    "    \"may\",\n",
    "    \"june\",\n",
    "    \"july\",\n",
    "    \"august\",\n",
    "    \"september\",\n",
    "    \"october\",\n",
    "    \"november\",\n",
    "    \"december\",\n",
    "]\n",
    "DAYS = [\"monday\", \"tuesday\", \"wednesday\", \"thursday\", \"friday\", \"saturday\", \"sunday\"]\n",
    "DAY_EXTENTIONS = [\"rd\", \"th\", \"st\", \"nd\"]\n",
    "\n",
    "def speak(text):\n",
    "    engine = pyttsx3.init()\n",
    "    engine.say(text)\n",
    "    engine.runAndWait()\n",
    "\n",
    "def get_audio():\n",
    "    r = sr.Recognizer()\n",
    "    with sr.Microphone() as source:\n",
    "        audio = r.listen(source)\n",
    "        said = \"\"\n",
    "\n",
    "        try:\n",
    "            said = r.recognize_google(audio)\n",
    "            print(said)\n",
    "        except Exception as e:\n",
    "            print(\"Exception: \" + str(e))\n",
    "\n",
    "    return said.lower()\n"
   ]
  },
  {
   "cell_type": "markdown",
   "metadata": {},
   "source": [
    "## Authenticate with Google Calendar API\n",
    "Authenticate with Google Calendar using OAuth 2.0. You will need to have `credentials.json` file from your Google API Console."
   ]
  },
  {
   "cell_type": "code",
   "execution_count": 3,
   "metadata": {},
   "outputs": [],
   "source": [
    "def authenticate_google():\n",
    "    \"\"\"Shows basic usage of the Google Calendar API.\n",
    "    Prints the start and name of the next 10 events on the user's calendar.\n",
    "    \"\"\"\n",
    "    creds = None\n",
    "    if os.path.exists(\"token.pickle\"):\n",
    "        with open(\"token.pickle\", \"rb\") as token:\n",
    "            creds = pickle.load(token)\n",
    "\n",
    "    if not creds or not creds.valid:\n",
    "        if creds and creds.expired and creds.refresh_token:\n",
    "            creds.refresh(Request())\n",
    "        else:\n",
    "            flow = InstalledAppFlow.from_client_secrets_file(\"credentials.json\", SCOPES)\n",
    "            creds = flow.run_local_server(port=0)\n",
    "\n",
    "        with open(\"token.pickle\", \"wb\") as token:\n",
    "            pickle.dump(creds, token)\n",
    "\n",
    "    service = build(\"calendar\", \"v3\", credentials=creds)\n",
    "\n",
    "    return service\n",
    "\n",
    "# Authenticate and create a service object\n",
    "SERVICE = authenticate_google()"
   ]
  },
  {
   "cell_type": "markdown",
   "metadata": {},
   "source": [
    "## Retrieve and Speak Events from Google Calendar\n",
    "Retrieve events from the user's calendar for a specified date and speak them out loud."
   ]
  },
  {
   "cell_type": "code",
   "execution_count": 4,
   "metadata": {},
   "outputs": [],
   "source": [
    "def get_events(day, service):\n",
    "    # Call the Calendar API\n",
    "    date = datetime.datetime.combine(day, datetime.datetime.min.time())\n",
    "    end_date = datetime.datetime.combine(day, datetime.datetime.max.time())\n",
    "    utc = pytz.UTC\n",
    "    date = date.astimezone(utc)\n",
    "    end_date = end_date.astimezone(utc)\n",
    "\n",
    "    events_result = (\n",
    "        service.events()\n",
    "        .list(\n",
    "            calendarId=\"primary\",\n",
    "            timeMin=date.isoformat(),\n",
    "            timeMax=end_date.isoformat(),\n",
    "            singleEvents=True,\n",
    "            orderBy=\"startTime\",\n",
    "        )\n",
    "        .execute()\n",
    "    )\n",
    "    events = events_result.get(\"items\", [])\n",
    "\n",
    "    if not events:\n",
    "        speak(\"No upcoming events found.\")\n",
    "    else:\n",
    "        speak(f\"You have {len(events)} events on this day.\")\n",
    "\n",
    "        for event in events:\n",
    "            start = event[\"start\"].get(\"dateTime\", event[\"start\"].get(\"date\"))\n",
    "            print(start, event[\"summary\"])\n",
    "            start_time = str(start.split(\"T\")[1].split(\"-\")[0])\n",
    "            if int(start_time.split(\":\")[0]) < 12:\n",
    "                start_time = start_time + \"am\"\n",
    "            else:\n",
    "                start_time = (\n",
    "                    str(int(start_time.split(\":\")[0]) - 12) + start_time.split(\":\")[1]\n",
    "                )\n",
    "                start_time = start_time + \"pm\"\n",
    "\n",
    "            speak(event[\"summary\"] + \" at \" + start_time)\n"
   ]
  },
  {
   "cell_type": "markdown",
   "metadata": {},
   "source": [
    "## Extract Date from Voice Input\n",
    "Function to parse the date from a voice input string."
   ]
  },
  {
   "cell_type": "code",
   "execution_count": 5,
   "metadata": {},
   "outputs": [],
   "source": [
    "def get_date(text):\n",
    "    text = text.lower()\n",
    "    today = datetime.date.today()\n",
    "\n",
    "    if text.count(\"today\") > 0:\n",
    "        return today\n",
    "\n",
    "    day = -1\n",
    "    day_of_week = -1\n",
    "    month = -1\n",
    "    year = today.year\n",
    "\n",
    "    for word in text.split():\n",
    "        if word in MONTHS:\n",
    "            month = MONTHS.index(word) + 1\n",
    "        elif word in DAYS:\n",
    "            day_of_week = DAYS.index(word)\n",
    "        elif word.isdigit():\n",
    "            day = int(word)\n",
    "        else:\n",
    "            for ext in DAY_EXTENTIONS:\n",
    "                found = word.find(ext)\n",
    "                if found > 0:\n",
    "                    try:\n",
    "                        day = int(word[:found])\n",
    "                    except:\n",
    "                        pass\n",
    "\n",
    "    if (\n",
    "        month < today.month and month != -1\n",
    "    ):  # if the month mentioned is before the current month set the year to the next\n",
    "        year = year + 1\n",
    "\n",
    "    if month == -1 and day != -1:  # if we didn't find a month, but we have a day\n",
    "        if day < today.day:\n",
    "            month = today.month + 1\n",
    "        else:\n",
    "            month = today.month\n",
    "\n",
    "    # if we only found a day of the week\n",
    "    if month == -1 and day == -1 and day_of_week != -1:\n",
    "        current_day_of_week = today.weekday()\n",
    "        dif = day_of_week - current_day_of_week\n",
    "\n",
    "        if dif < 0:\n",
    "            dif += 7\n",
    "            if text.count(\"next\") >= 1:\n",
    "                dif += 7\n",
    "\n",
    "        return today + datetime.timedelta(dif)\n",
    "\n",
    "    if day != -1:  # FIXED FROM VIDEO\n",
    "        return datetime.date(month=month, day=day, year=year)\n"
   ]
  },
  {
   "cell_type": "markdown",
   "metadata": {},
   "source": [
    "## Note-Taking Function\n",
    "Function to create a text file with a note dictated by the user."
   ]
  },
  {
   "cell_type": "code",
   "execution_count": 6,
   "metadata": {},
   "outputs": [],
   "source": [
    "def note(text):\n",
    "    date = datetime.datetime.now()\n",
    "    file_name = str(date).replace(\":\", \"-\") + \"-note.txt\"\n",
    "    with open(file_name, \"w\") as f:\n",
    "        f.write(text)\n",
    "\n",
    "    subprocess.Popen([\"notepad.exe\", file_name])\n"
   ]
  },
  {
   "cell_type": "markdown",
   "metadata": {},
   "source": [
    "## Main Loop for Voice Commands\n",
    "This loop continuously listens for the wake word \"hey tim\" and then processes further commands to check calendar events or take notes."
   ]
  },
  {
   "cell_type": "code",
   "execution_count": 7,
   "metadata": {},
   "outputs": [],
   "source": [
    "WAKE = \"hey tim\"\n",
    "print(\"Start\")\n",
    "\n",
    "while True:\n",
    "    print(\"Listening\")\n",
    "    text = get_audio()\n",
    "\n",
    "    if text.count(WAKE) > 0:\n",
    "        speak(\"I am ready\")\n",
    "        text = get_audio()\n",
    "\n",
    "        CALENDAR_STRS = [\"what do i have\", \"do i have plans\", \"am i busy\"]\n",
    "        for phrase in CALENDAR_STRS:\n",
    "            if phrase in text:\n",
    "                date = get_date(text)\n",
    "                if date:\n",
    "                    get_events(date, SERVICE)\n",
    "                else:\n",
    "                    speak(\"I don't understand\")\n",
    "\n",
    "        NOTE_STRS = [\"make a note\", \"write this down\", \"remember this\"]\n",
    "        for phrase in NOTE_STRS:\n",
    "            if phrase in text:\n",
    "                speak(\"What would you like me to write down?\")\n",
    "                note_text = get_audio()\n",
    "                note(note_text)\n",
    "                speak(\"I've made a note of that.\")\n"
   ]
  }
 ],
 "metadata": {
  "kernelspec": {
   "display_name": "Python 3",
   "language": "python",
   "name": "python3"
  },
  "language_info": {
   "codemirror_mode": {
    "name": "ipython",
    "version": 3
   },
   "file_extension": ".py",
   "mimetype": "text/x-python",
   "name": "python",
   "nbconvert_exporter": "python",
   "pygments_lexer": "ipython3",
   "version": "3.8.5"
  }
 },
 "nbformat": 4,
 "nbformat_minor": 4
}
